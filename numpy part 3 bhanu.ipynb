{
 "cells": [
  {
   "cell_type": "code",
   "execution_count": 1,
   "id": "5e201b30",
   "metadata": {},
   "outputs": [],
   "source": [
    "import numpy as np"
   ]
  },
  {
   "cell_type": "code",
   "execution_count": 18,
   "id": "4d03b1f1",
   "metadata": {},
   "outputs": [],
   "source": [
    "d = np.array ([10,46,20,2,1,24,8,88,22,5])\n",
    "e = np.array ([4,6,7,9,11,12,55,59,56,69])"
   ]
  },
  {
   "cell_type": "code",
   "execution_count": 19,
   "id": "694dacc9",
   "metadata": {},
   "outputs": [
    {
     "name": "stdout",
     "output_type": "stream",
     "text": [
      "10\n",
      "10\n"
     ]
    }
   ],
   "source": [
    "print(len(d))\n",
    "print(len(e))"
   ]
  },
  {
   "cell_type": "code",
   "execution_count": 20,
   "id": "ecfab002",
   "metadata": {},
   "outputs": [],
   "source": [
    "#math oparations"
   ]
  },
  {
   "cell_type": "code",
   "execution_count": 21,
   "id": "b8bf95d6",
   "metadata": {},
   "outputs": [],
   "source": [
    "#adding "
   ]
  },
  {
   "cell_type": "code",
   "execution_count": 23,
   "id": "3a028650",
   "metadata": {},
   "outputs": [
    {
     "name": "stdout",
     "output_type": "stream",
     "text": [
      "[ 14  52  27  11  12  36  63 147  78  74]\n",
      "[ 14  52  27  11  12  36  63 147  78  74]\n"
     ]
    }
   ],
   "source": [
    "print(d+e)\n",
    "print (np.add(d,e))"
   ]
  },
  {
   "cell_type": "code",
   "execution_count": 24,
   "id": "9a5c8ca7",
   "metadata": {},
   "outputs": [],
   "source": [
    "#sub"
   ]
  },
  {
   "cell_type": "code",
   "execution_count": 26,
   "id": "c95e6a1f",
   "metadata": {},
   "outputs": [
    {
     "name": "stdout",
     "output_type": "stream",
     "text": [
      "[  6  40  13  -7 -10  12 -47  29 -34 -64]\n",
      "[  6  40  13  -7 -10  12 -47  29 -34 -64]\n"
     ]
    }
   ],
   "source": [
    "print(d - e)\n",
    "print (np.subtract(d,e))"
   ]
  },
  {
   "cell_type": "code",
   "execution_count": 27,
   "id": "c7e91f8e",
   "metadata": {},
   "outputs": [],
   "source": [
    "# multipilication "
   ]
  },
  {
   "cell_type": "code",
   "execution_count": 28,
   "id": "ea6f74e0",
   "metadata": {},
   "outputs": [
    {
     "name": "stdout",
     "output_type": "stream",
     "text": [
      "[  40  276  140   18   11  288  440 5192 1232  345]\n",
      "[  40  276  140   18   11  288  440 5192 1232  345]\n"
     ]
    }
   ],
   "source": [
    "print (d*e)\n",
    "print (np.multiply(d,e))"
   ]
  },
  {
   "cell_type": "code",
   "execution_count": 29,
   "id": "0b11ab56",
   "metadata": {},
   "outputs": [],
   "source": [
    "# division "
   ]
  },
  {
   "cell_type": "code",
   "execution_count": 30,
   "id": "8ba9f402",
   "metadata": {},
   "outputs": [
    {
     "name": "stdout",
     "output_type": "stream",
     "text": [
      "[2.5        7.66666667 2.85714286 0.22222222 0.09090909 2.\n",
      " 0.14545455 1.49152542 0.39285714 0.07246377]\n",
      "[2.5        7.66666667 2.85714286 0.22222222 0.09090909 2.\n",
      " 0.14545455 1.49152542 0.39285714 0.07246377]\n"
     ]
    }
   ],
   "source": [
    "print (d/e)\n",
    "print (np.divide(d,e))"
   ]
  },
  {
   "cell_type": "code",
   "execution_count": 31,
   "id": "23f93938",
   "metadata": {},
   "outputs": [],
   "source": [
    "#sqrt using for loop\n",
    "g = np.array ([66,85,22,9,49])"
   ]
  },
  {
   "cell_type": "code",
   "execution_count": 32,
   "id": "93cdff39",
   "metadata": {},
   "outputs": [],
   "source": [
    "import math\n",
    "sqrt = math.sqrt"
   ]
  },
  {
   "cell_type": "code",
   "execution_count": 34,
   "id": "a9d924ea",
   "metadata": {},
   "outputs": [
    {
     "name": "stdout",
     "output_type": "stream",
     "text": [
      "8.12403840463596\n"
     ]
    }
   ],
   "source": [
    "g = np.array ([66])\n",
    "for h in g:\n",
    "    print(sqrt(g))"
   ]
  },
  {
   "cell_type": "code",
   "execution_count": 36,
   "id": "e83936a5",
   "metadata": {},
   "outputs": [
    {
     "name": "stdout",
     "output_type": "stream",
     "text": [
      "9.219544457292887\n"
     ]
    }
   ],
   "source": [
    "g = np.array ([85])\n",
    "for h in g:\n",
    "    print(sqrt(g))"
   ]
  },
  {
   "cell_type": "code",
   "execution_count": 37,
   "id": "8d8ca8d9",
   "metadata": {},
   "outputs": [
    {
     "name": "stdout",
     "output_type": "stream",
     "text": [
      "4.69041575982343\n"
     ]
    }
   ],
   "source": [
    "g = np.array ([22])\n",
    "for h in g:\n",
    "    print(sqrt(g))"
   ]
  },
  {
   "cell_type": "code",
   "execution_count": 38,
   "id": "05deb021",
   "metadata": {},
   "outputs": [
    {
     "name": "stdout",
     "output_type": "stream",
     "text": [
      "3.0\n"
     ]
    }
   ],
   "source": [
    "g = np.array ([9])\n",
    "for h in g:\n",
    "    print(sqrt(g))"
   ]
  },
  {
   "cell_type": "code",
   "execution_count": 39,
   "id": "2200bac1",
   "metadata": {},
   "outputs": [
    {
     "name": "stdout",
     "output_type": "stream",
     "text": [
      "7.0\n"
     ]
    }
   ],
   "source": [
    "g = np.array ([49])\n",
    "for h in g:\n",
    "    print(sqrt(g))"
   ]
  },
  {
   "cell_type": "code",
   "execution_count": 40,
   "id": "4f841343",
   "metadata": {},
   "outputs": [],
   "source": [
    "#creating array and using postive and negative (slicing&index)"
   ]
  },
  {
   "cell_type": "code",
   "execution_count": 41,
   "id": "61f631b0",
   "metadata": {},
   "outputs": [],
   "source": [
    "w = np.array ([5,3,22,16,65,4,80,33,21,12,34,48,90,93,77])"
   ]
  },
  {
   "cell_type": "code",
   "execution_count": 43,
   "id": "8e920b78",
   "metadata": {},
   "outputs": [
    {
     "name": "stdout",
     "output_type": "stream",
     "text": [
      "16\n"
     ]
    }
   ],
   "source": [
    "#positive index\n",
    "\n",
    "print(w[3])"
   ]
  },
  {
   "cell_type": "code",
   "execution_count": 45,
   "id": "1f240906",
   "metadata": {},
   "outputs": [
    {
     "name": "stdout",
     "output_type": "stream",
     "text": [
      "[21 12 34 48]\n"
     ]
    }
   ],
   "source": [
    "print (w[8:12])"
   ]
  },
  {
   "cell_type": "code",
   "execution_count": 47,
   "id": "f25c1193",
   "metadata": {},
   "outputs": [
    {
     "name": "stdout",
     "output_type": "stream",
     "text": [
      "[ 5  3 22 16 65  4 80 33 21 12 34 48 90 93 77]\n"
     ]
    }
   ],
   "source": [
    "print (w[0:])"
   ]
  },
  {
   "cell_type": "code",
   "execution_count": 48,
   "id": "2a2bbce2",
   "metadata": {},
   "outputs": [
    {
     "name": "stdout",
     "output_type": "stream",
     "text": [
      "[ 5  3 22 16 65  4 80 33 21 12 34 48 90 93 77]\n"
     ]
    }
   ],
   "source": [
    "print (w[:15])"
   ]
  },
  {
   "cell_type": "code",
   "execution_count": 49,
   "id": "7413ab8d",
   "metadata": {},
   "outputs": [
    {
     "name": "stdout",
     "output_type": "stream",
     "text": [
      "[22 16 65  4 80 33 21 12]\n"
     ]
    }
   ],
   "source": [
    "#negitive index\n",
    "\n",
    "print (w[-13:-5])"
   ]
  },
  {
   "cell_type": "code",
   "execution_count": 50,
   "id": "c555fd08",
   "metadata": {},
   "outputs": [
    {
     "name": "stdout",
     "output_type": "stream",
     "text": [
      "21\n"
     ]
    }
   ],
   "source": [
    "print (w[-7])"
   ]
  },
  {
   "cell_type": "code",
   "execution_count": 51,
   "id": "ed7bd0fa",
   "metadata": {},
   "outputs": [
    {
     "name": "stdout",
     "output_type": "stream",
     "text": [
      "[ 4 80 33 21 12 34 48 90 93 77]\n"
     ]
    }
   ],
   "source": [
    "print (w[-10:])"
   ]
  },
  {
   "cell_type": "code",
   "execution_count": 52,
   "id": "9809d861",
   "metadata": {},
   "outputs": [
    {
     "name": "stdout",
     "output_type": "stream",
     "text": [
      "[ 5  3 22 16 65  4 80 33 21 12 34 48]\n"
     ]
    }
   ],
   "source": [
    "print (w[:-3])"
   ]
  },
  {
   "cell_type": "code",
   "execution_count": 53,
   "id": "560f4f8a",
   "metadata": {},
   "outputs": [],
   "source": [
    "a = np.array([[67,57,19,28,32,63],[55,54,39,44,76,23]])"
   ]
  },
  {
   "cell_type": "code",
   "execution_count": 55,
   "id": "236c701a",
   "metadata": {},
   "outputs": [
    {
     "name": "stdout",
     "output_type": "stream",
     "text": [
      "[57 19 28 32 63]\n"
     ]
    }
   ],
   "source": [
    "print (a[0,1:7])"
   ]
  },
  {
   "cell_type": "code",
   "execution_count": 57,
   "id": "c3f92d4f",
   "metadata": {},
   "outputs": [
    {
     "name": "stdout",
     "output_type": "stream",
     "text": [
      "[55 54 39]\n"
     ]
    }
   ],
   "source": [
    "print (a[1,-7:-3])"
   ]
  },
  {
   "cell_type": "code",
   "execution_count": null,
   "id": "e7166111",
   "metadata": {},
   "outputs": [],
   "source": []
  }
 ],
 "metadata": {
  "kernelspec": {
   "display_name": "Python 3 (ipykernel)",
   "language": "python",
   "name": "python3"
  },
  "language_info": {
   "codemirror_mode": {
    "name": "ipython",
    "version": 3
   },
   "file_extension": ".py",
   "mimetype": "text/x-python",
   "name": "python",
   "nbconvert_exporter": "python",
   "pygments_lexer": "ipython3",
   "version": "3.11.5"
  }
 },
 "nbformat": 4,
 "nbformat_minor": 5
}
